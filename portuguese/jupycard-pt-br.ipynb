{
 "cells": [
  {
   "attachments": {},
   "cell_type": "markdown",
   "metadata": {},
   "source": [
    "## Olá! Esse é um arquivo Jupyter que é um Flashcard.\n",
    "Você pode escrever o que você quiser memorizar e *sem* ver a resposta, você pode tentar lembrar o que aquela palavra, símbolo ou informação significa. Se você não conseguir, você sempre pode ver a resposta e na próxima vez lembrar sem precisar checar."
   ]
  },
  {
   "attachments": {},
   "cell_type": "markdown",
   "metadata": {},
   "source": [
    "Eu vou te guiar passo a passo. É bem simples!"
   ]
  },
  {
   "attachments": {},
   "cell_type": "markdown",
   "metadata": {},
   "source": [
    "Primeiramente: eu vou definir algumas variáveis só pra deixar a listagem mais organizada."
   ]
  },
  {
   "cell_type": "code",
   "execution_count": null,
   "metadata": {},
   "outputs": [],
   "source": [
    "# Espaços\n",
    "\n",
    "space = \": \"\n",
    "brk = \"\"\"\n",
    "\"\"\"\n",
    "brk2 = brk + brk\n",
    "brk3 = brk2 + brk"
   ]
  },
  {
   "attachments": {},
   "cell_type": "markdown",
   "metadata": {},
   "source": [
    "E também um título."
   ]
  },
  {
   "cell_type": "code",
   "execution_count": null,
   "metadata": {},
   "outputs": [],
   "source": [
    "# Título\n",
    "\n",
    "testTitle = \"     Flashcard:\" + brk3"
   ]
  },
  {
   "attachments": {},
   "cell_type": "markdown",
   "metadata": {},
   "source": [
    "Você pode renomear o título para o que você quiser! Você só precisa mudar o texto nas \"\". Cuidado pra não apagar o espaço. Se você acabar apagando, é só apertar a barra de espaço 5 vezes."
   ]
  },
  {
   "attachments": {},
   "cell_type": "markdown",
   "metadata": {},
   "source": [
    "Agora, eu vou criar um input para que você possa escolher entre ver as informações sem a resposta OU com a resposta."
   ]
  },
  {
   "cell_type": "code",
   "execution_count": null,
   "metadata": {},
   "outputs": [],
   "source": [
    "option = input(\"Olá! Você quer ver as respostas? (s = sim, n = não)\")"
   ]
  },
  {
   "attachments": {},
   "cell_type": "markdown",
   "metadata": {},
   "source": [
    "Ótimo! Agora vamos adicionar a informação. Eu não sei o que você quer memorizar, então as variáveis vão ser chamadas de \"info\". Essas variáveis vão armazenar a informação que você quer aprender, e as respostas vão ser chamadas de \"answer\"."
   ]
  },
  {
   "cell_type": "code",
   "execution_count": null,
   "metadata": {},
   "outputs": [],
   "source": [
    "# Informações e Respostas\n",
    "\n",
    "\n",
    "# Slot 1\n",
    "info1 = \"\"\n",
    "answer1 = \"\"\n",
    "\n",
    "# Slot 2\n",
    "info2 = \"\"\n",
    "answer2 = \"\"\n",
    "\n",
    "# Slot 3\n",
    "info3 = \"\"\n",
    "answer3 = \"\"\n",
    "\n",
    "# Slot 4\n",
    "info4 = \"\"\n",
    "answer4 = \"\"\n",
    "\n",
    "# Slot 5\n",
    "info5 = \"\"\n",
    "answer5 = \"\"\n",
    "\n",
    "# Slot 6\n",
    "info6 = \"\"\n",
    "answer6 = \"\"\n",
    "\n",
    "# Slot 7\n",
    "info7 = \"\"\n",
    "answer7 = \"\"\n",
    "\n",
    "# Slot 8\n",
    "info8 = \"\"\n",
    "answer8 = \"\"\n",
    "\n",
    "# Slot 9\n",
    "info9 = \"\"\n",
    "answer9 = \"\"\n",
    "\n",
    "# Slot 10\n",
    "info10 = \"\"\n",
    "answer10 = \"\""
   ]
  },
  {
   "attachments": {},
   "cell_type": "markdown",
   "metadata": {},
   "source": [
    "Como dito anteriormente, você agora pode adicionar a informação que você quer memorizar nas variáveis \"info\" e a resposta dessa informação nas variáveis \"answer\". Só escreva entre as \"\". <br>\n",
    "<br>\n",
    "Perceba que as variáveis não estão codadas para fazer cálculos para você, a não ser que você modifique o código. Porém, você poderia, como um exemplo, adicionar \"32 x 5\" na variável \"info\" e \"160\" na variável \"answer\". Isso pode ser útil para memorizar o resultado de \"32 x 5\""
   ]
  },
  {
   "attachments": {},
   "cell_type": "markdown",
   "metadata": {},
   "source": [
    "Além disso, eu criei 10 \"slots\" (ou espaços) mas você pode codar mais, ou até remover alguns. Só copie e cole se você quiser adicionar mais, ou simplesmente remova se você não precisa de tantos espaços.\n",
    "\n",
    "**AVISO 1:** <br>\n",
    "Se você quer mudar o código, garanta que tudo está correto. Exemplo: se você quer remover 1 espaço você vai precisar removê-lo também das outras seções abaixo. Se você quer adicionar 1 espaço, mude o número do lado do nome da variável de acordo. Por exemplo: Se você adicionar um décimo primeiro espaço, você precisará mudar o número do lado do nome da variável para 11."
   ]
  },
  {
   "attachments": {},
   "cell_type": "markdown",
   "metadata": {},
   "source": [
    "Continuando: Agora vamos armazenar as variáveis \"info\" e \"answer\" em outras variáveis para manter tudo organizado. <br>\n",
    "Lembre-se: SE você mudou alguma coisa, como um espaço, na célula de \"Informações e Respostas\", você precisará modificar o espaço em questão aqui."
   ]
  },
  {
   "cell_type": "code",
   "execution_count": null,
   "metadata": {},
   "outputs": [],
   "source": [
    "# Juntando variáveis em outras variáveis\n",
    "\n",
    "\n",
    "# Espaços sem a resposta\n",
    "slotTest1 = info1 + brk2\n",
    "slotTest2 = info2 + brk2\n",
    "slotTest3 = info3 + brk2\n",
    "slotTest4 = info4 + brk2\n",
    "slotTest5 = info5 + brk2\n",
    "slotTest6 = info6 + brk2\n",
    "slotTest7 = info7 + brk2\n",
    "slotTest8 = info8 + brk2\n",
    "slotTest9 = info9 + brk2\n",
    "slotTest10 = info10 + brk2\n",
    "\n",
    "# Espaços com a resposta\n",
    "slotAnswer1 = info1 + space + answer1 + brk2\n",
    "slotAnswer2 = info2 + space + answer2 + brk2\n",
    "slotAnswer3 = info3 + space + answer3 + brk2\n",
    "slotAnswer4 = info4 + space + answer4 + brk2\n",
    "slotAnswer5 = info5 + space + answer5 + brk2\n",
    "slotAnswer6 = info6 + space + answer6 + brk2\n",
    "slotAnswer7 = info7 + space + answer7 + brk2\n",
    "slotAnswer8 = info8 + space + answer8 + brk2\n",
    "slotAnswer9 = info9 + space + answer9 + brk2\n",
    "slotAnswer10 = info10 + space + answer10 + brk2"
   ]
  },
  {
   "attachments": {},
   "cell_type": "markdown",
   "metadata": {},
   "source": [
    "Como um toque final, vamos adicionar um efeito de aleatoriedade! Se a ordem dos ítens for a mesma, você irá lembrar a resposta da informação por causa da ordem. Isso é ruim porque você quer aprender a informação e lembrar disso sem precisar ficar olhando em uma lista, certo?"
   ]
  },
  {
   "attachments": {},
   "cell_type": "markdown",
   "metadata": {},
   "source": [
    "**AVISO 2:** <br>\n",
    "Você terá que mudar as coisas aqui também SE você alterou algo antes, como adicionar um espaço novo ou deletar um pré criado. Simplesmente mude a lista de números. UM número de 1 a 10 será selecionado e esse número será usado mais tarde para determinar a ordem que os ítens serão listados. Se você removeu um espaço você poderia mudar o número \"10\" para \"9\", ou para \"11\" se você criou um espaço novo."
   ]
  },
  {
   "cell_type": "code",
   "execution_count": null,
   "metadata": {},
   "outputs": [],
   "source": [
    "# Aleatoriedade\n",
    "\n",
    "import random\n",
    "possibility = random.randint(1,10)"
   ]
  },
  {
   "attachments": {},
   "cell_type": "markdown",
   "metadata": {},
   "source": [
    "Agora que temos um número aleatório sendo gerado, podemos atribuir um número a uma ordem de listagem específica. Exemplo: 1 = (1, 2, 3, 4, 5, 6, 7, 8, 9, 10); 2 = (10, 9, 8, 7, 6, 5, 4, 3, 2, 1) e por aí vaí. As ordens serão nomeadas de \"possibility\"."
   ]
  },
  {
   "cell_type": "code",
   "execution_count": null,
   "metadata": {},
   "outputs": [],
   "source": [
    "# Possibilidades (sem resposta)\n",
    "\n",
    "\n",
    "# Possibilidade 1\n",
    "testPossibility1 = testTitle + slotTest1 + slotTest2 + slotTest3 + slotTest4 + slotTest5 + slotTest6 + slotTest7 + slotTest8 + slotTest9 + slotTest10\n",
    "\n",
    "# Possibilidade 2\n",
    "testPossibility2 = testTitle + slotTest10 + slotTest9 + slotTest8 + slotTest7 + slotTest6 + slotTest5 + slotTest4 + slotTest3 + slotTest2 + slotTest1\n",
    "\n",
    "# Possibilidade 3\n",
    "testPossibility3 = testTitle + slotTest10 + slotTest8 + slotTest7 + slotTest9 + slotTest5 + slotTest6 + slotTest4 + slotTest2 + slotTest1 + slotTest3\n",
    "\n",
    "# Possibilidade 4\n",
    "testPossibility4 = testTitle + slotTest3 + slotTest2 + slotTest1 + slotTest4 + slotTest5 + slotTest6 + slotTest8 + slotTest9 + slotTest7 + slotTest10\n",
    "\n",
    "# Possibilidade 5\n",
    "testPossibility5 = testTitle + slotTest1 + slotTest3 + slotTest2 + slotTest4 + slotTest7 + slotTest9 + slotTest6 + slotTest10 + slotTest8 + slotTest5\n",
    "\n",
    "# Possibilidade 6\n",
    "testPossibility6 = testTitle + slotTest1 + slotTest5 + slotTest10 + slotTest2 + slotTest4 + slotTest6 + slotTest8 + slotTest9 + slotTest7 + slotTest3\n",
    "\n",
    "# Possibilidade 7\n",
    "testPossibility7 = testTitle + slotTest3 + slotTest7 + slotTest2 + slotTest8 + slotTest9 + slotTest4 + slotTest1 + slotTest5 + slotTest6 + slotTest10\n",
    "\n",
    "# Possibilidade 8\n",
    "testPossibility8 = testTitle + slotTest3 + slotTest5 + slotTest2 + slotTest4 + slotTest1 + slotTest6 + slotTest10 + slotTest7 + slotTest9 + slotTest8\n",
    "\n",
    "# Possibilidade 9\n",
    "testPossibility9 = testTitle + slotTest5 + slotTest6 + slotTest7 + slotTest8 + slotTest9 + slotTest1 + slotTest2 + slotTest3 + slotTest4 + slotTest10\n",
    "\n",
    "# Possibilidade 10\n",
    "testPossibility10 = testTitle + slotTest2 + slotTest7 + slotTest3 + slotTest9 + slotTest5 + slotTest10 + slotTest8 + slotTest1 + slotTest4 + slotTest6"
   ]
  },
  {
   "cell_type": "code",
   "execution_count": null,
   "metadata": {},
   "outputs": [],
   "source": [
    "# Possibilidades (com resposta)\n",
    "\n",
    "\n",
    "# Possibilidade 1\n",
    "answerPossibility1 = testTitle + slotAnswer1 + slotAnswer2 + slotAnswer3 + slotAnswer4 + slotAnswer5 + slotAnswer6 + slotAnswer7 + slotAnswer8 + slotAnswer9 + slotAnswer10\n",
    "\n",
    "# Possibilidade 2\n",
    "answerPossibility2 = testTitle + slotAnswer10 + slotAnswer9 + slotAnswer8 + slotAnswer7 + slotAnswer6 + slotAnswer5 + slotAnswer4 + slotAnswer3 + slotAnswer2 + slotAnswer1\n",
    "\n",
    "# Possibilidade 3\n",
    "answerPossibility3 = testTitle + slotAnswer10 + slotAnswer8 + slotAnswer7 + slotAnswer9 + slotAnswer5 + slotAnswer6 + slotAnswer4 + slotAnswer2 + slotAnswer1 + slotAnswer3\n",
    "\n",
    "# Possibilidade 4\n",
    "answerPossibility4 = testTitle + slotAnswer3 + slotAnswer2 + slotAnswer1 + slotAnswer4 + slotAnswer5 + slotAnswer6 + slotAnswer8 + slotAnswer9 + slotAnswer7 + slotAnswer10\n",
    "\n",
    "# Possibilidade 5\n",
    "answerPossibility5 = testTitle + slotAnswer1 + slotAnswer3 + slotAnswer2 + slotAnswer4 + slotAnswer7 + slotAnswer9 + slotAnswer6 + slotAnswer10 + slotAnswer8 + slotAnswer5\n",
    "\n",
    "# Possibilidade 6\n",
    "answerPossibility6 = testTitle + slotAnswer1 + slotAnswer5 + slotAnswer10 + slotAnswer2 + slotAnswer4 + slotAnswer6 + slotAnswer8 + slotAnswer9 + slotAnswer7 + slotAnswer3\n",
    "\n",
    "# Possibilidade 7\n",
    "answerPossibility7 = testTitle + slotAnswer3 + slotAnswer7 + slotAnswer2 + slotAnswer8 + slotAnswer9 + slotAnswer4 + slotAnswer1 + slotAnswer5 + slotAnswer6 + slotAnswer10\n",
    "\n",
    "# Possibilidade 8\n",
    "answerPossibility8 = testTitle + slotAnswer3 + slotAnswer5 + slotAnswer2 + slotAnswer4 + slotAnswer1 + slotAnswer6 + slotAnswer10 + slotAnswer7 + slotAnswer9 + slotAnswer8\n",
    "\n",
    "# Possibilidade 9\n",
    "answerPossibility9 = testTitle + slotAnswer5 + slotAnswer6 + slotAnswer7 + slotAnswer8 + slotAnswer9 + slotAnswer1 + slotAnswer2 + slotAnswer3 + slotAnswer4 + slotAnswer10\n",
    "\n",
    "# Possibilidade 10\n",
    "answerPossibility10 = testTitle + slotAnswer2 + slotAnswer7 + slotAnswer3 + slotAnswer9 + slotAnswer5 + slotAnswer10 + slotAnswer8 + slotAnswer1 + slotAnswer4 + slotAnswer6"
   ]
  },
  {
   "attachments": {},
   "cell_type": "markdown",
   "metadata": {},
   "source": [
    "Estamos prontos! Podemos finalmente listar os elementos para que tudo fique mais visual. Você só precisa apertar o botão \"Run All\". <br>\n",
    "Caso não encontre, ele está no canto superior. Aperte no botão \"Cell\" e procure a opção \"Run All\"."
   ]
  },
  {
   "cell_type": "code",
   "execution_count": null,
   "metadata": {},
   "outputs": [],
   "source": [
    "# Listagem\n",
    "\n",
    "\n",
    "# Sem resposta\n",
    "if option == \"n\":\n",
    "    if possibility == 1:\n",
    "        print(testPossibility1)\n",
    "    if possibility == 2:\n",
    "        print(testPossibility2)\n",
    "    if possibility == 3:\n",
    "        print(testPossibility3)\n",
    "    if possibility == 4:\n",
    "        print(testPossibility4)\n",
    "    if possibility == 5:\n",
    "        print(testPossibility5)\n",
    "    if possibility == 6:\n",
    "        print(testPossibility6)\n",
    "    if possibility == 7:\n",
    "        print(testPossibility7)\n",
    "    if possibility == 8:\n",
    "        print(testPossibility8)\n",
    "    if possibility == 9:\n",
    "        print(testPossibility9)\n",
    "    if possibility == 10:\n",
    "        print(testPossibility10)\n",
    "\n",
    "# Com resposta\n",
    "if option == \"s\":\n",
    "    if possibility == 1:\n",
    "        print(answerPossibility1)\n",
    "    if possibility == 2:\n",
    "        print(answerPossibility2)\n",
    "    if possibility == 3:\n",
    "        print(answerPossibility3)\n",
    "    if possibility == 4:\n",
    "        print(answerPossibility4)\n",
    "    if possibility == 5:\n",
    "        print(answerPossibility5)\n",
    "    if possibility == 6:\n",
    "        print(answerPossibility6)\n",
    "    if possibility == 7:\n",
    "        print(answerPossibility7)\n",
    "    if possibility == 8:\n",
    "        print(answerPossibility8)\n",
    "    if possibility == 9:\n",
    "        print(answerPossibility9)\n",
    "    if possibility == 10:\n",
    "        print(answerPossibility10)"
   ]
  },
  {
   "attachments": {},
   "cell_type": "markdown",
   "metadata": {},
   "source": [
    "E pronto! Eu realmente espero que esse arquivo te ajude. Mesmo se só servir para te dar uma pequena ideia, já é o suficiente pra mim. Se algo der errado ou se você precisar da minha ajuda com qualquer coisa, você pode entrar em contato comigo via:\n",
    "\n",
    "- Instagram: https://www.instagram.com/ddgs02/\n",
    "- Twitter: https://twitter.com/DDGS01\n",
    "- LinkedIn: https://www.linkedin.com/in/wanderson-patrick/\n",
    "- Email: wandersonfp67@gmail.com\n",
    "\n",
    "Bons estudos :D"
   ]
  }
 ],
 "metadata": {
  "kernelspec": {
   "display_name": "base",
   "language": "python",
   "name": "python3"
  },
  "language_info": {
   "codemirror_mode": {
    "name": "ipython",
    "version": 3
   },
   "file_extension": ".py",
   "mimetype": "text/x-python",
   "name": "python",
   "nbconvert_exporter": "python",
   "pygments_lexer": "ipython3",
   "version": "3.9.13"
  },
  "orig_nbformat": 4
 },
 "nbformat": 4,
 "nbformat_minor": 2
}
