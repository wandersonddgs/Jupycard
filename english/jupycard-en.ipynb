{
 "cells": [
  {
   "attachments": {},
   "cell_type": "markdown",
   "metadata": {},
   "source": [
    "## Hi! This is a jupyter notebook that is a flashcard.\n",
    "You're able to write down what you want to memorize and *without* seeing the answer you can try to remember what that word, symbol or information means. If you didn't, you can always see the answer and in the next time remember without having to see the answer."
   ]
  },
  {
   "attachments": {},
   "cell_type": "markdown",
   "metadata": {},
   "source": [
    "I'll guide you through step by step. It's very simple!"
   ]
  },
  {
   "attachments": {},
   "cell_type": "markdown",
   "metadata": {},
   "source": [
    "First of all: I'll set some variables just to make the display look better."
   ]
  },
  {
   "cell_type": "code",
   "execution_count": null,
   "metadata": {},
   "outputs": [],
   "source": [
    "# Spaces\n",
    "\n",
    "space = \": \"\n",
    "brk = \"\"\"\n",
    "\"\"\"\n",
    "brk2 = brk + brk\n",
    "brk3 = brk2 + brk"
   ]
  },
  {
   "attachments": {},
   "cell_type": "markdown",
   "metadata": {},
   "source": [
    "And also a title to keep things organized as well."
   ]
  },
  {
   "cell_type": "code",
   "execution_count": null,
   "metadata": {},
   "outputs": [],
   "source": [
    "# Title\n",
    "\n",
    "testTitle = \"     Flashcard:\" + brk3"
   ]
  },
  {
   "attachments": {},
   "cell_type": "markdown",
   "metadata": {},
   "source": [
    "You can change the title to your liking! Just change the text in the \"\". Be careful to not remove the space. If you do, just press the space bar 5 times."
   ]
  },
  {
   "attachments": {},
   "cell_type": "markdown",
   "metadata": {},
   "source": [
    "Next, I'll code an input so you can choose whether you want to see the information with the answer OR without it."
   ]
  },
  {
   "cell_type": "code",
   "execution_count": null,
   "metadata": {},
   "outputs": [],
   "source": [
    "option = input(\"Hello! Do you want to see the answers? (y = yes, n = no)\")"
   ]
  },
  {
   "attachments": {},
   "cell_type": "markdown",
   "metadata": {},
   "source": [
    "Good! Now we're going to add the information. I don't know what you want to memorize, so the variables will be labled as \"info\". These variables will store the information you want to remember, and the answers will be called... \"answer\"."
   ]
  },
  {
   "cell_type": "code",
   "execution_count": null,
   "metadata": {},
   "outputs": [],
   "source": [
    "# Informations & Answers\n",
    "\n",
    "\n",
    "# Slot 1\n",
    "info1 = \"\"\n",
    "answer1 = \"\"\n",
    "\n",
    "# Slot 2\n",
    "info2 = \"\"\n",
    "answer2 = \"\"\n",
    "\n",
    "# Slot 3\n",
    "info3 = \"\"\n",
    "answer3 = \"\"\n",
    "\n",
    "# Slot 4\n",
    "info4 = \"\"\n",
    "answer4 = \"\"\n",
    "\n",
    "# Slot 5\n",
    "info5 = \"\"\n",
    "answer5 = \"\"\n",
    "\n",
    "# Slot 6\n",
    "info6 = \"\"\n",
    "answer6 = \"\"\n",
    "\n",
    "# Slot 7\n",
    "info7 = \"\"\n",
    "answer7 = \"\"\n",
    "\n",
    "# Slot 8\n",
    "info8 = \"\"\n",
    "answer8 = \"\"\n",
    "\n",
    "# Slot 9\n",
    "info9 = \"\"\n",
    "answer9 = \"\"\n",
    "\n",
    "# Slot 10\n",
    "info10 = \"\"\n",
    "answer10 = \"\""
   ]
  },
  {
   "attachments": {},
   "cell_type": "markdown",
   "metadata": {},
   "source": [
    "As mentioned before, you can now add the information you want to memorize in the \"info\" variables and the answer to that information in the \"answer\" variables: Simply write between the \"\".<br>\n",
    "<br>\n",
    "Please note that the variables aren't coded to make calculations for you, unless you code it. However, you could, for example: add \"32 x 5\" in the \"info\" variable and \"160\" in \"answer\". This could be useful to memorize the result of \"32 x 5\"."
   ]
  },
  {
   "attachments": {},
   "cell_type": "markdown",
   "metadata": {},
   "source": [
    "Also, I coded 10 \"slots\" but you can code more, or even remove some. Just copy and paste if you want to add more, or simply remove it if you don't need that much slots.\n",
    "\n",
    "**WARNING 1:** <br>\n",
    "If you want to change the code, make sure that everything is correct. If you want to remove 1 slot you'll need to remove it from the sections bellow, too. If you want to add one slot, change the number right after the variable's name accordingly. For example: if you want to add an 11th slot, you'll need to change the number right after the variable to 11."
   ]
  },
  {
   "attachments": {},
   "cell_type": "markdown",
   "metadata": {},
   "source": [
    "Moving forward: Now we'll store these variables \"info\" and \"answer\" in other variables to keep everything organized. <br> Remember: IF you changed something, like a slot, in the \"Informations & Answers\" cell, you'll also need to modify that respective slot right here."
   ]
  },
  {
   "cell_type": "code",
   "execution_count": null,
   "metadata": {},
   "outputs": [],
   "source": [
    "# Bundling variables in other variables\n",
    "\n",
    "\n",
    "# Slots without answer\n",
    "slotTest1 = info1 + brk2\n",
    "slotTest2 = info2 + brk2\n",
    "slotTest3 = info3 + brk2\n",
    "slotTest4 = info4 + brk2\n",
    "slotTest5 = info5 + brk2\n",
    "slotTest6 = info6 + brk2\n",
    "slotTest7 = info7 + brk2\n",
    "slotTest8 = info8 + brk2\n",
    "slotTest9 = info9 + brk2\n",
    "slotTest10 = info10 + brk2\n",
    "\n",
    "# Slots with the answer\n",
    "slotAnswer1 = info1 + space + answer1 + brk2\n",
    "slotAnswer2 = info2 + space + answer2 + brk2\n",
    "slotAnswer3 = info3 + space + answer3 + brk2\n",
    "slotAnswer4 = info4 + space + answer4 + brk2\n",
    "slotAnswer5 = info5 + space + answer5 + brk2\n",
    "slotAnswer6 = info6 + space + answer6 + brk2\n",
    "slotAnswer7 = info7 + space + answer7 + brk2\n",
    "slotAnswer8 = info8 + space + answer8 + brk2\n",
    "slotAnswer9 = info9 + space + answer9 + brk2\n",
    "slotAnswer10 = info10 + space + answer10 + brk2"
   ]
  },
  {
   "attachments": {},
   "cell_type": "markdown",
   "metadata": {},
   "source": [
    "As for the final touch, let's add a randomness feature! If the order of the items is the same, you'll remember the answer for that information because of the order. This is bad because you want to learn that information and remember it without having to check on a list, right?"
   ]
  },
  {
   "attachments": {},
   "cell_type": "markdown",
   "metadata": {},
   "source": [
    "**WARNING 2:** <br>\n",
    "You will have to change things here, too IF you altered something before, like adding a new slot or deleting an existing one. Simply change the range of numbers. ONE number from 1 to 10 will be selected and this number will be used later to determine the display order. If you removed one slot you could change the number \"10\" to \"9\", or to \"11\" if you created a new slot."
   ]
  },
  {
   "cell_type": "code",
   "execution_count": null,
   "metadata": {},
   "outputs": [],
   "source": [
    "# Randomness\n",
    "\n",
    "import random\n",
    "possibility = random.randint(1,10)"
   ]
  },
  {
   "attachments": {},
   "cell_type": "markdown",
   "metadata": {},
   "source": [
    "Now that we have a random number generated, we can attribute a number to a specific display order. For example: 1 = (1, 2, 3, 4, 5, 6, 7, 8, 9, 10); 2 = (10, 9, 8, 7, 6, 5, 4, 3, 2, 1) and so on. The orders will be labled as \"possibility\"."
   ]
  },
  {
   "cell_type": "code",
   "execution_count": null,
   "metadata": {},
   "outputs": [],
   "source": [
    "# Test Possibilities\n",
    "\n",
    "\n",
    "# Possibility 1\n",
    "testPossibility1 = testTitle + slotTest1 + slotTest2 + slotTest3 + slotTest4 + slotTest5 + slotTest6 + slotTest7 + slotTest8 + slotTest9 + slotTest10\n",
    "\n",
    "# Possibility 2\n",
    "testPossibility2 = testTitle + slotTest10 + slotTest9 + slotTest8 + slotTest7 + slotTest6 + slotTest5 + slotTest4 + slotTest3 + slotTest2 + slotTest1\n",
    "\n",
    "# Possibility 3\n",
    "testPossibility3 = testTitle + slotTest10 + slotTest8 + slotTest7 + slotTest9 + slotTest5 + slotTest6 + slotTest4 + slotTest2 + slotTest1 + slotTest3\n",
    "\n",
    "# Possibility 4\n",
    "testPossibility4 = testTitle + slotTest3 + slotTest2 + slotTest1 + slotTest4 + slotTest5 + slotTest6 + slotTest8 + slotTest9 + slotTest7 + slotTest10\n",
    "\n",
    "# Possibility 5\n",
    "testPossibility5 = testTitle + slotTest1 + slotTest3 + slotTest2 + slotTest4 + slotTest7 + slotTest9 + slotTest6 + slotTest10 + slotTest8 + slotTest5\n",
    "\n",
    "# Possibility 6\n",
    "testPossibility6 = testTitle + slotTest1 + slotTest5 + slotTest10 + slotTest2 + slotTest4 + slotTest6 + slotTest8 + slotTest9 + slotTest7 + slotTest3\n",
    "\n",
    "# Possibility 7\n",
    "testPossibility7 = testTitle + slotTest3 + slotTest7 + slotTest2 + slotTest8 + slotTest9 + slotTest4 + slotTest1 + slotTest5 + slotTest6 + slotTest10\n",
    "\n",
    "# Possibility 8\n",
    "testPossibility8 = testTitle + slotTest3 + slotTest5 + slotTest2 + slotTest4 + slotTest1 + slotTest6 + slotTest10 + slotTest7 + slotTest9 + slotTest8\n",
    "\n",
    "# Possibility 9\n",
    "testPossibility9 = testTitle + slotTest5 + slotTest6 + slotTest7 + slotTest8 + slotTest9 + slotTest1 + slotTest2 + slotTest3 + slotTest4 + slotTest10\n",
    "\n",
    "# Possibility 10\n",
    "testPossibility10 = testTitle + slotTest2 + slotTest7 + slotTest3 + slotTest9 + slotTest5 + slotTest10 + slotTest8 + slotTest1 + slotTest4 + slotTest6"
   ]
  },
  {
   "cell_type": "code",
   "execution_count": null,
   "metadata": {},
   "outputs": [],
   "source": [
    "# Answer Possibilities\n",
    "\n",
    "\n",
    "# Possibility 1\n",
    "answerPossibility1 = testTitle + slotAnswer1 + slotAnswer2 + slotAnswer3 + slotAnswer4 + slotAnswer5 + slotAnswer6 + slotAnswer7 + slotAnswer8 + slotAnswer9 + slotAnswer10\n",
    "\n",
    "# Possibility 2\n",
    "answerPossibility2 = testTitle + slotAnswer10 + slotAnswer9 + slotAnswer8 + slotAnswer7 + slotAnswer6 + slotAnswer5 + slotAnswer4 + slotAnswer3 + slotAnswer2 + slotAnswer1\n",
    "\n",
    "# Possibility 3\n",
    "answerPossibility3 = testTitle + slotAnswer10 + slotAnswer8 + slotAnswer7 + slotAnswer9 + slotAnswer5 + slotAnswer6 + slotAnswer4 + slotAnswer2 + slotAnswer1 + slotAnswer3\n",
    "\n",
    "# Possibility 4\n",
    "answerPossibility4 = testTitle + slotAnswer3 + slotAnswer2 + slotAnswer1 + slotAnswer4 + slotAnswer5 + slotAnswer6 + slotAnswer8 + slotAnswer9 + slotAnswer7 + slotAnswer10\n",
    "\n",
    "# Possibility 5\n",
    "answerPossibility5 = testTitle + slotAnswer1 + slotAnswer3 + slotAnswer2 + slotAnswer4 + slotAnswer7 + slotAnswer9 + slotAnswer6 + slotAnswer10 + slotAnswer8 + slotAnswer5\n",
    "\n",
    "# Possibility 6\n",
    "answerPossibility6 = testTitle + slotAnswer1 + slotAnswer5 + slotAnswer10 + slotAnswer2 + slotAnswer4 + slotAnswer6 + slotAnswer8 + slotAnswer9 + slotAnswer7 + slotAnswer3\n",
    "\n",
    "# Possibility 7\n",
    "answerPossibility7 = testTitle + slotAnswer3 + slotAnswer7 + slotAnswer2 + slotAnswer8 + slotAnswer9 + slotAnswer4 + slotAnswer1 + slotAnswer5 + slotAnswer6 + slotAnswer10\n",
    "\n",
    "# Possibility 8\n",
    "answerPossibility8 = testTitle + slotAnswer3 + slotAnswer5 + slotAnswer2 + slotAnswer4 + slotAnswer1 + slotAnswer6 + slotAnswer10 + slotAnswer7 + slotAnswer9 + slotAnswer8\n",
    "\n",
    "# Possibility 9\n",
    "answerPossibility9 = testTitle + slotAnswer5 + slotAnswer6 + slotAnswer7 + slotAnswer8 + slotAnswer9 + slotAnswer1 + slotAnswer2 + slotAnswer3 + slotAnswer4 + slotAnswer10\n",
    "\n",
    "# Possibility 10\n",
    "answerPossibility10 = testTitle + slotAnswer2 + slotAnswer7 + slotAnswer3 + slotAnswer9 + slotAnswer5 + slotAnswer10 + slotAnswer8 + slotAnswer1 + slotAnswer4 + slotAnswer6"
   ]
  },
  {
   "attachments": {},
   "cell_type": "markdown",
   "metadata": {},
   "source": [
    "We are good to go! We're finally able to display everything for better visibility. You just need to hit the button \"Run All\". <br>\n",
    "If you don't find it, it's in the header of the page. Look for the \"Cell\" button, then click it and look for the \"Run All\" option."
   ]
  },
  {
   "cell_type": "code",
   "execution_count": null,
   "metadata": {},
   "outputs": [],
   "source": [
    "# Display\n",
    "\n",
    "\n",
    "# Test\n",
    "if option == \"n\":\n",
    "    if possibility == 1:\n",
    "        print(testPossibility1)\n",
    "    if possibility == 2:\n",
    "        print(testPossibility2)\n",
    "    if possibility == 3:\n",
    "        print(testPossibility3)\n",
    "    if possibility == 4:\n",
    "        print(testPossibility4)\n",
    "    if possibility == 5:\n",
    "        print(testPossibility5)\n",
    "    if possibility == 6:\n",
    "        print(testPossibility6)\n",
    "    if possibility == 7:\n",
    "        print(testPossibility7)\n",
    "    if possibility == 8:\n",
    "        print(testPossibility8)\n",
    "    if possibility == 9:\n",
    "        print(testPossibility9)\n",
    "    if possibility == 10:\n",
    "        print(testPossibility10)\n",
    "\n",
    "# Answer\n",
    "if option == \"y\":\n",
    "    if possibility == 1:\n",
    "        print(answerPossibility1)\n",
    "    if possibility == 2:\n",
    "        print(answerPossibility2)\n",
    "    if possibility == 3:\n",
    "        print(answerPossibility3)\n",
    "    if possibility == 4:\n",
    "        print(answerPossibility4)\n",
    "    if possibility == 5:\n",
    "        print(answerPossibility5)\n",
    "    if possibility == 6:\n",
    "        print(answerPossibility6)\n",
    "    if possibility == 7:\n",
    "        print(answerPossibility7)\n",
    "    if possibility == 8:\n",
    "        print(answerPossibility8)\n",
    "    if possibility == 9:\n",
    "        print(answerPossibility9)\n",
    "    if possibility == 10:\n",
    "        print(answerPossibility10)"
   ]
  },
  {
   "attachments": {},
   "cell_type": "markdown",
   "metadata": {},
   "source": [
    "And here we are! I really hope this notebook helps you. Even if just a tiny idea pops in your head, it is enough for me. If something goes wrong or you need my help with anything, you can get in contact with me through:\n",
    "\n",
    "- Instagram: https://www.instagram.com/ddgs02/\n",
    "- Twitter: https://twitter.com/DDGS01\n",
    "- LinkedIn: https://www.linkedin.com/in/wanderson-patrick/\n",
    "- Email: wandersonfp67@gmail.com\n",
    "\n",
    "Have fun :D"
   ]
  }
 ],
 "metadata": {
  "kernelspec": {
   "display_name": "base",
   "language": "python",
   "name": "python3"
  },
  "language_info": {
   "codemirror_mode": {
    "name": "ipython",
    "version": 3
   },
   "file_extension": ".py",
   "mimetype": "text/x-python",
   "name": "python",
   "nbconvert_exporter": "python",
   "pygments_lexer": "ipython3",
   "version": "3.9.13"
  },
  "orig_nbformat": 4
 },
 "nbformat": 4,
 "nbformat_minor": 2
}
